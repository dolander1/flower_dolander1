{
 "cells": [
  {
   "cell_type": "code",
   "execution_count": null,
   "metadata": {},
   "outputs": [
    {
     "ename": "",
     "evalue": "",
     "output_type": "error",
     "traceback": [
      "\u001b[1;31mFailed to start the Kernel. \n",
      "\u001b[1;31mFailed to start the Kernel 'flowerBaselines (Python 3.8.16)'. \n",
      "\u001b[1;31mView Jupyter <a href='command:jupyter.viewOutput'>log</a> for further details. EACCES: permission denied, open '/tmp/kernel-v2-40610g6MqcMarbdM6.json'"
     ]
    }
   ],
   "source": [
    "from typing import List, Optional, Tuple\n",
    "\n",
    "import numpy as np\n",
    "import torch\n",
    "import torchvision.transforms as transforms\n",
    "from torch.utils.data import ConcatDataset, DataLoader, Dataset, Subset, random_split\n",
    "from torchvision.datasets import MNIST\n",
    "\n",
    "\n",
    "def _download_data() -> Tuple[Dataset, Dataset]:\n",
    "    \"\"\"Downloads (if necessary) and returns the MNIST dataset.\n",
    "\n",
    "    Returns\n",
    "    -------\n",
    "    Tuple[MNIST, MNIST]\n",
    "        The dataset for training and the dataset for testing MNIST.\n",
    "    \"\"\"\n",
    "    transform = transforms.Compose(\n",
    "        [transforms.ToTensor(), transforms.Normalize((0.1307,), (0.3081,))]\n",
    "    )\n",
    "    trainset = MNIST(\"./dataset\", train=True, download=True, transform=transform)\n",
    "    testset = MNIST(\"./dataset\", train=False, download=True, transform=transform)\n",
    "    return trainset, testset\n",
    "\n",
    "\n",
    "trainset, testset = _download_data()\n",
    "# print(list(range(0, len(trainset)//100)))\n",
    "trainset = Subset(trainset, range(0, len(trainset)//100, 1)) #Daniel new line, less data selected\n",
    "testset = Subset(testset, range(0, len(testset)//100, 1)) #Daniel new line, less data selected\n",
    "\n",
    "num_clients = 10\n",
    "iid = True\n",
    "seed = 42\n",
    "\n",
    "partition_size = int(len(trainset) / num_clients)\n",
    "lengths = [partition_size] * num_clients\n",
    "if iid:\n",
    "    datasets = random_split(trainset, lengths, torch.Generator().manual_seed(seed))\n",
    "\n",
    "\n",
    "print(len(trainset)) # 600\n",
    "print(datasets[0][59]) # 60 per client if 60 000*val_ratio*fraction_evaluate*10/100 (10 clients)\n",
    "\n",
    "# metrics_centralized evaluates global model accuracy on all test data\n",
    "# metrics_distributed evaluates average of all client accuracy individually on metrics_distributed = data_set*fraction_evaluate*val_ratio*number_of_clients/100 (client specific data), round 0.6 => 1\n"
   ]
  },
  {
   "cell_type": "code",
   "execution_count": null,
   "metadata": {},
   "outputs": [
    {
     "ename": "",
     "evalue": "",
     "output_type": "error",
     "traceback": [
      "\u001b[1;31mFailed to start the Kernel. \n",
      "\u001b[1;31mFailed to start the Kernel 'flowerBaselines (Python 3.8.16)'. \n",
      "\u001b[1;31mView Jupyter <a href='command:jupyter.viewOutput'>log</a> for further details. EACCES: permission denied, open '/tmp/kernel-v2-40610UjETCVEt2iQx.json'"
     ]
    }
   ],
   "source": [
    "np.load('docs/resultsDanielAvg/hist_iid_balanced_C=10_B=10_E=1_R=2_F=1.0.npy', allow_pickle=True)\n"
   ]
  },
  {
   "cell_type": "code",
   "execution_count": null,
   "metadata": {},
   "outputs": [
    {
     "ename": "",
     "evalue": "",
     "output_type": "error",
     "traceback": [
      "\u001b[1;31mFailed to start the Kernel. \n",
      "\u001b[1;31mFailed to start the Kernel 'flowerBaselines (Python 3.8.16)'. \n",
      "\u001b[1;31mView Jupyter <a href='command:jupyter.viewOutput'>log</a> for further details. EACCES: permission denied, open '/tmp/kernel-v2-40610UjETCVEt2iQx.json'"
     ]
    }
   ],
   "source": [
    "np.load(\"round-1-weights.npz\", allow_pickle=True)\n",
    "\n",
    "\n",
    "import numpy as np\n",
    "\n",
    "# Load the saved npz file\n",
    "data = np.load(f\"docs/hannesResults/{cfg.current_test}/round-{server_round}-weights.npz\")\n",
    "\n",
    "# Print the names of the ndarrays in the file\n",
    "print(data.files)\n",
    "\n",
    "# Access the ndarrays by their names\n",
    "array1 = data['arr_0']\n",
    "array2 = data['arr_1']"
   ]
  }
 ],
 "metadata": {
  "kernelspec": {
   "display_name": "flower2",
   "language": "python",
   "name": "python3"
  },
  "language_info": {
   "codemirror_mode": {
    "name": "ipython",
    "version": 3
   },
   "file_extension": ".py",
   "mimetype": "text/x-python",
   "name": "python",
   "nbconvert_exporter": "python",
   "pygments_lexer": "ipython3",
   "version": "3.8.16"
  },
  "orig_nbformat": 4,
  "vscode": {
   "interpreter": {
    "hash": "175d20801d9ec4a55285f7267a13701d45e29f0cfde3601d68b2dd1195eb680f"
   }
  }
 },
 "nbformat": 4,
 "nbformat_minor": 2
}
